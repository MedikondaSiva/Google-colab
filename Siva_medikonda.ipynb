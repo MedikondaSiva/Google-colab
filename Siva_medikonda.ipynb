{
  "nbformat": 4,
  "nbformat_minor": 0,
  "metadata": {
    "colab": {
      "name": "Siva medikonda.ipynb",
      "provenance": [],
      "collapsed_sections": [],
      "authorship_tag": "ABX9TyMPTkYA5FxVv3XoK29BZ5So",
      "include_colab_link": true
    },
    "kernelspec": {
      "name": "python3",
      "display_name": "Python 3"
    },
    "language_info": {
      "name": "python"
    }
  },
  "cells": [
    {
      "cell_type": "markdown",
      "metadata": {
        "id": "view-in-github",
        "colab_type": "text"
      },
      "source": [
        "<a href=\"https://colab.research.google.com/github/MedikondaSiva/Google-colab/blob/main/Siva_medikonda.ipynb\" target=\"_parent\"><img src=\"https://colab.research.google.com/assets/colab-badge.svg\" alt=\"Open In Colab\"/></a>"
      ]
    },
    {
      "cell_type": "code",
      "execution_count": null,
      "metadata": {
        "colab": {
          "base_uri": "https://localhost:8080/"
        },
        "id": "8U0CX4BtZ8a9",
        "outputId": "0c15a608-2b80-422d-a465-69263d946a2f"
      },
      "outputs": [
        {
          "output_type": "stream",
          "name": "stdout",
          "text": [
            "Enter the hight of rectangle :6745556\n",
            "Enter the hight of rectangle :76545678\n",
            "The Area of A Rectangle : 516343157506968.0\n"
          ]
        }
      ],
      "source": [
        "#area of a rectangle\n",
        "hight=float(input('Enter the hight of rectangle :'))\n",
        "width=float(input('Enter the hight of rectangle :'))\n",
        "Area=hight*width\n",
        "print('The Area of A Rectangle :',Area)"
      ]
    },
    {
      "cell_type": "code",
      "source": [
        "#Find ASCII value of a character\n",
        "S=input('Enter the character :')\n",
        "print('The ASII value of',S,'is',ord(S))"
      ],
      "metadata": {
        "colab": {
          "base_uri": "https://localhost:8080/"
        },
        "id": "yeILT3kKbu0I",
        "outputId": "07b56892-20ee-49ad-c3a5-db58fd0cecd5"
      },
      "execution_count": null,
      "outputs": [
        {
          "output_type": "stream",
          "name": "stdout",
          "text": [
            "Enter the character :*\n",
            "The ASII value of * is 42\n"
          ]
        }
      ]
    },
    {
      "cell_type": "code",
      "source": [
        "#Convert Celsius to Fahrenheit\n",
        "Celsius = float(input('Temperature value in degree Celsius:'))\n",
        "Fahrenheit =((Celsius*1.8)+32)\n",
        "print('The',Celsius,'degree Celsius is equal to',Fahrenheit,'Fahrenheit.')\n"
      ],
      "metadata": {
        "colab": {
          "base_uri": "https://localhost:8080/"
        },
        "id": "39JVFhS2eR2n",
        "outputId": "cd742d1c-41ae-4399-dd5f-d96995840840"
      },
      "execution_count": 1,
      "outputs": [
        {
          "output_type": "stream",
          "name": "stdout",
          "text": [
            "Temperature value in degree Celsius:36\n",
            "The 36.0 degree Celsius is equal to 96.8 Fahrenheit.\n"
          ]
        }
      ]
    },
    {
      "cell_type": "code",
      "source": [
        "#Swap value of two variables\n",
        "a=int(input('Enter the First variable :'))\n",
        "b=int(input('Enter the second variable :'))\n",
        "temp=a\n",
        "a=b\n",
        "b=temp\n",
        "print('The Value of a after swapping:',a)\n",
        "print('The Value of b after swapping:',b)"
      ],
      "metadata": {
        "colab": {
          "base_uri": "https://localhost:8080/"
        },
        "id": "C2FyMqJ-CSMU",
        "outputId": "7809b128-c69d-4c36-ecca-5e212c4c6c31"
      },
      "execution_count": 4,
      "outputs": [
        {
          "output_type": "stream",
          "name": "stdout",
          "text": [
            "Enter the First variable :999\n",
            "Enter the second variable :1000\n",
            "The Value of a after swapping: 1000\n",
            "The Value of b after swapping: 999\n"
          ]
        }
      ]
    },
    {
      "cell_type": "code",
      "source": [
        "#Check the given number is odd or even\n",
        "num=int(input('Enter the number :'))\n",
        "if num%2==0:print('The number is even :',num)\n",
        "else:print('The number is odd :',num)"
      ],
      "metadata": {
        "colab": {
          "base_uri": "https://localhost:8080/"
        },
        "id": "U14jq5k1Fs2e",
        "outputId": "fd2c06d9-f31e-457b-c308-7fbf51b8cf11"
      },
      "execution_count": 9,
      "outputs": [
        {
          "output_type": "stream",
          "name": "stdout",
          "text": [
            "Enter the number :2\n",
            "The number is even : 2\n"
          ]
        }
      ]
    },
    {
      "cell_type": "code",
      "source": [
        "#Check whether a character is vowel or consonant\n",
        "Si=input('Enter the character :')\n",
        "if(Si=='A' or Si=='a' or Si=='E' or Si =='e' or Si=='I'\n",
        " or Si=='i' or Si=='O' or Si=='o' or Si=='U' or Si=='u'):print(Si, \"is a Vowel\")\n",
        "else:print(Si, \"is a consonant\")"
      ],
      "metadata": {
        "colab": {
          "base_uri": "https://localhost:8080/"
        },
        "id": "mEieDTFeHXPK",
        "outputId": "bab428bb-ab92-46da-f84c-873fdf7fed0b"
      },
      "execution_count": 12,
      "outputs": [
        {
          "output_type": "stream",
          "name": "stdout",
          "text": [
            "Enter the character :E\n",
            "E is a Vowel\n"
          ]
        }
      ]
    },
    {
      "cell_type": "code",
      "source": [
        "#Find largest among three numbers\n",
        "def num(a,b,c):\n",
        "  if(a>b) and (a>c):print(a)\n",
        "  elif(b>a) and (b>c):print(b)\n",
        "  else:print(c)\n",
        "  return num\n",
        "num(976534,765432,612547)"
      ],
      "metadata": {
        "colab": {
          "base_uri": "https://localhost:8080/"
        },
        "id": "QFjyahj6KkBA",
        "outputId": "4f9ae6ea-03ee-4cdc-fdda-3c8ed1f68274"
      },
      "execution_count": 22,
      "outputs": [
        {
          "output_type": "stream",
          "name": "stdout",
          "text": [
            "976534\n"
          ]
        },
        {
          "output_type": "execute_result",
          "data": {
            "text/plain": [
              "<function __main__.num>"
            ]
          },
          "metadata": {},
          "execution_count": 22
        }
      ]
    },
    {
      "cell_type": "code",
      "source": [
        "#Leap year checking\n",
        "num=int(input('Enter the yrar :'))\n",
        "if (num % 400 == 0) or (num % 100 != 0) and (num % 4 == 0):print(num,'is leap year')\n",
        "else:print(num,'is not leap year')"
      ],
      "metadata": {
        "colab": {
          "base_uri": "https://localhost:8080/"
        },
        "id": "zX2bs2pIPV3U",
        "outputId": "742e5a34-5a1e-4b3e-a0b7-c1da23a93c43"
      },
      "execution_count": 30,
      "outputs": [
        {
          "output_type": "stream",
          "name": "stdout",
          "text": [
            "Enter the yrar :2016\n",
            "2016 is leap year\n"
          ]
        }
      ]
    },
    {
      "cell_type": "code",
      "source": [
        "#Positive negative checking\n",
        "num=int(input('Enter the number:'))\n",
        "if num>0:print(num,'is positive')\n",
        "elif num<0:print(num,'is negative')\n",
        "else:print(num,'is Zero')"
      ],
      "metadata": {
        "colab": {
          "base_uri": "https://localhost:8080/"
        },
        "id": "zXLqqE8CSE3F",
        "outputId": "a13e8648-729c-4c63-c727-4181d1721261"
      },
      "execution_count": 35,
      "outputs": [
        {
          "output_type": "stream",
          "name": "stdout",
          "text": [
            "Enter the number:0\n",
            "0 is Zero\n"
          ]
        }
      ]
    },
    {
      "cell_type": "code",
      "source": [
        "\n"
      ],
      "metadata": {
        "id": "v24m51NcTR0z"
      },
      "execution_count": null,
      "outputs": []
    }
  ]
}
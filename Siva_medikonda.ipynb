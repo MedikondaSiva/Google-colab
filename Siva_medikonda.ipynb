{
  "nbformat": 4,
  "nbformat_minor": 0,
  "metadata": {
    "colab": {
      "name": "Siva medikonda.ipynb",
      "provenance": [],
      "collapsed_sections": [],
      "authorship_tag": "ABX9TyMAHN/0DvbG/pBmuMeP1bfV",
      "include_colab_link": true
    },
    "kernelspec": {
      "name": "python3",
      "display_name": "Python 3"
    },
    "language_info": {
      "name": "python"
    }
  },
  "cells": [
    {
      "cell_type": "markdown",
      "metadata": {
        "id": "view-in-github",
        "colab_type": "text"
      },
      "source": [
        "<a href=\"https://colab.research.google.com/github/MedikondaSiva/Google-colab/blob/main/Siva_medikonda.ipynb\" target=\"_parent\"><img src=\"https://colab.research.google.com/assets/colab-badge.svg\" alt=\"Open In Colab\"/></a>"
      ]
    },
    {
      "cell_type": "code",
      "execution_count": null,
      "metadata": {
        "colab": {
          "base_uri": "https://localhost:8080/"
        },
        "id": "8U0CX4BtZ8a9",
        "outputId": "0c15a608-2b80-422d-a465-69263d946a2f"
      },
      "outputs": [
        {
          "output_type": "stream",
          "name": "stdout",
          "text": [
            "Enter the hight of rectangle :6745556\n",
            "Enter the hight of rectangle :76545678\n",
            "The Area of A Rectangle : 516343157506968.0\n"
          ]
        }
      ],
      "source": [
        "#area of a rectangle\n",
        "hight=float(input('Enter the hight of rectangle :'))\n",
        "width=float(input('Enter the hight of rectangle :'))\n",
        "Area=hight*width\n",
        "print('The Area of A Rectangle :',Area)"
      ]
    },
    {
      "cell_type": "code",
      "source": [
        "#Find ASCII value of a character\n",
        "S=input('Enter the character :')\n",
        "print('The ASII value of',S,'is',ord(S))"
      ],
      "metadata": {
        "colab": {
          "base_uri": "https://localhost:8080/"
        },
        "id": "yeILT3kKbu0I",
        "outputId": "07b56892-20ee-49ad-c3a5-db58fd0cecd5"
      },
      "execution_count": null,
      "outputs": [
        {
          "output_type": "stream",
          "name": "stdout",
          "text": [
            "Enter the character :*\n",
            "The ASII value of * is 42\n"
          ]
        }
      ]
    },
    {
      "cell_type": "code",
      "source": [
        "#Convert Celsius to Fahrenheit\n",
        "Celsius = float(input('Temperature value in degree Celsius:'))\n",
        "Fahrenheit =((Celsius*1.8)+32)\n",
        "print('The',Celsius,'degree Celsius is equal to',Fahrenheit,'Fahrenheit.')\n"
      ],
      "metadata": {
        "colab": {
          "base_uri": "https://localhost:8080/"
        },
        "id": "39JVFhS2eR2n",
        "outputId": "cd742d1c-41ae-4399-dd5f-d96995840840"
      },
      "execution_count": 1,
      "outputs": [
        {
          "output_type": "stream",
          "name": "stdout",
          "text": [
            "Temperature value in degree Celsius:36\n",
            "The 36.0 degree Celsius is equal to 96.8 Fahrenheit.\n"
          ]
        }
      ]
    },
    {
      "cell_type": "code",
      "source": [
        "#Swap value of two variables\n",
        "a=int(input('Enter the First variable :'))\n",
        "b=int(input('Enter the second variable :'))\n",
        "temp=a\n",
        "a=b\n",
        "b=temp\n",
        "print('The Value of a after swapping:',a)\n",
        "print('The Value of b after swapping:',b)"
      ],
      "metadata": {
        "colab": {
          "base_uri": "https://localhost:8080/"
        },
        "id": "C2FyMqJ-CSMU",
        "outputId": "7809b128-c69d-4c36-ecca-5e212c4c6c31"
      },
      "execution_count": 4,
      "outputs": [
        {
          "output_type": "stream",
          "name": "stdout",
          "text": [
            "Enter the First variable :999\n",
            "Enter the second variable :1000\n",
            "The Value of a after swapping: 1000\n",
            "The Value of b after swapping: 999\n"
          ]
        }
      ]
    }
  ]
}